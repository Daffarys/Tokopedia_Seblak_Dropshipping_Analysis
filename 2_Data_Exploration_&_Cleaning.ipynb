{
 "cells": [
  {
   "cell_type": "markdown",
   "metadata": {},
   "source": [
    "# Data Exploration"
   ]
  },
  {
   "cell_type": "markdown",
   "metadata": {},
   "source": [
    "This part focuses on the process of initial Data Exploration and Data Cleaning"
   ]
  },
  {
   "cell_type": "code",
   "execution_count": 1,
   "metadata": {},
   "outputs": [],
   "source": [
    "# Import Libraries\n",
    "import pandas as pd"
   ]
  },
  {
   "cell_type": "code",
   "execution_count": 2,
   "metadata": {},
   "outputs": [],
   "source": [
    "#The formula for reading back a file that was previously exported to csv\n",
    "df = pd.read_csv('Seblak_Tokped.csv')"
   ]
  },
  {
   "cell_type": "code",
   "execution_count": 3,
   "metadata": {},
   "outputs": [
    {
     "name": "stdout",
     "output_type": "stream",
     "text": [
      "<class 'pandas.core.frame.DataFrame'>\n",
      "RangeIndex: 90 entries, 0 to 89\n",
      "Data columns (total 7 columns):\n",
      " #   Column          Non-Null Count  Dtype  \n",
      "---  ------          --------------  -----  \n",
      " 0   Unnamed: 0      90 non-null     int64  \n",
      " 1   Name            90 non-null     object \n",
      " 2   Price           90 non-null     object \n",
      " 3   Seller          90 non-null     object \n",
      " 4   Cities          90 non-null     object \n",
      " 5   Product sold    84 non-null     object \n",
      " 6   Product rating  82 non-null     float64\n",
      "dtypes: float64(1), int64(1), object(5)\n",
      "memory usage: 5.0+ KB\n"
     ]
    }
   ],
   "source": [
    "#The formula for outputting information from the database\n",
    "df.info()"
   ]
  },
  {
   "cell_type": "markdown",
   "metadata": {},
   "source": [
    "Based on the results of the data reading above, there is information that all data types are objects, so they must be converted to the correct data type in order to be processed."
   ]
  },
  {
   "cell_type": "code",
   "execution_count": 4,
   "metadata": {},
   "outputs": [
    {
     "data": {
      "text/plain": [
       "Index(['Unnamed: 0', 'Name', 'Price', 'Seller', 'Cities', 'Product sold',\n",
       "       'Product rating'],\n",
       "      dtype='object')"
      ]
     },
     "execution_count": 4,
     "metadata": {},
     "output_type": "execute_result"
    }
   ],
   "source": [
    "# Formula to display columns in the dataframe\n",
    "df.columns"
   ]
  },
  {
   "cell_type": "code",
   "execution_count": 5,
   "metadata": {},
   "outputs": [
    {
     "data": {
      "text/plain": [
       "Unnamed: 0        0\n",
       "Name              0\n",
       "Price             0\n",
       "Seller            0\n",
       "Cities            0\n",
       "Product sold      6\n",
       "Product rating    8\n",
       "dtype: int64"
      ]
     },
     "execution_count": 5,
     "metadata": {},
     "output_type": "execute_result"
    }
   ],
   "source": [
    "# Formula to find Missing Value\n",
    "df.isnull().sum()"
   ]
  },
  {
   "cell_type": "code",
   "execution_count": 6,
   "metadata": {},
   "outputs": [
    {
     "data": {
      "text/plain": [
       "0"
      ]
     },
     "execution_count": 6,
     "metadata": {},
     "output_type": "execute_result"
    }
   ],
   "source": [
    "# Formula to find duplicate data\n",
    "df.duplicated().sum()"
   ]
  },
  {
   "cell_type": "markdown",
   "metadata": {},
   "source": [
    "# Data Cleaning"
   ]
  },
  {
   "cell_type": "code",
   "execution_count": 7,
   "metadata": {},
   "outputs": [
    {
     "data": {
      "text/html": [
       "<div>\n",
       "<style scoped>\n",
       "    .dataframe tbody tr th:only-of-type {\n",
       "        vertical-align: middle;\n",
       "    }\n",
       "\n",
       "    .dataframe tbody tr th {\n",
       "        vertical-align: top;\n",
       "    }\n",
       "\n",
       "    .dataframe thead th {\n",
       "        text-align: right;\n",
       "    }\n",
       "</style>\n",
       "<table border=\"1\" class=\"dataframe\">\n",
       "  <thead>\n",
       "    <tr style=\"text-align: right;\">\n",
       "      <th></th>\n",
       "      <th>Unnamed: 0</th>\n",
       "      <th>Name</th>\n",
       "      <th>Price</th>\n",
       "      <th>Seller</th>\n",
       "      <th>Cities</th>\n",
       "      <th>Product sold</th>\n",
       "      <th>Product rating</th>\n",
       "    </tr>\n",
       "  </thead>\n",
       "  <tbody>\n",
       "    <tr>\n",
       "      <th>0</th>\n",
       "      <td>0</td>\n",
       "      <td>Gelifood Combo 3pcs Seblak Instan Kerupuk Mawa...</td>\n",
       "      <td>Rp39.000</td>\n",
       "      <td>Lidigeli</td>\n",
       "      <td>Kab. Garut</td>\n",
       "      <td>30+ terjual</td>\n",
       "      <td>4.6</td>\n",
       "    </tr>\n",
       "    <tr>\n",
       "      <th>1</th>\n",
       "      <td>1</td>\n",
       "      <td>Kylafood Seblak Cup</td>\n",
       "      <td>Rp11.000</td>\n",
       "      <td>Kylafood Jakarta</td>\n",
       "      <td>Jakarta Selatan</td>\n",
       "      <td>60+ terjual</td>\n",
       "      <td>4.9</td>\n",
       "    </tr>\n",
       "    <tr>\n",
       "      <th>2</th>\n",
       "      <td>2</td>\n",
       "      <td>Seblak Instan Ceu Nthien Khas Bandung Rasana N...</td>\n",
       "      <td>Rp15.000</td>\n",
       "      <td>Central Seblak Nusantara</td>\n",
       "      <td>Tangerang Selatan</td>\n",
       "      <td>1rb+ terjual</td>\n",
       "      <td>4.9</td>\n",
       "    </tr>\n",
       "    <tr>\n",
       "      <th>3</th>\n",
       "      <td>3</td>\n",
       "      <td>SEBLAK INSTAN MOMMY</td>\n",
       "      <td>Rp13.500</td>\n",
       "      <td>Rav Jaya Display</td>\n",
       "      <td>Kab. Tangerang</td>\n",
       "      <td>1rb+ terjual</td>\n",
       "      <td>4.8</td>\n",
       "    </tr>\n",
       "    <tr>\n",
       "      <th>4</th>\n",
       "      <td>4</td>\n",
       "      <td>Termurah Kerupuk Mentah-Kerupuk Seblak-Kerupuk...</td>\n",
       "      <td>Rp6.000</td>\n",
       "      <td>Djuragan Kerupuk</td>\n",
       "      <td>Surabaya</td>\n",
       "      <td>80+ terjual</td>\n",
       "      <td>5.0</td>\n",
       "    </tr>\n",
       "    <tr>\n",
       "      <th>...</th>\n",
       "      <td>...</td>\n",
       "      <td>...</td>\n",
       "      <td>...</td>\n",
       "      <td>...</td>\n",
       "      <td>...</td>\n",
       "      <td>...</td>\n",
       "      <td>...</td>\n",
       "    </tr>\n",
       "    <tr>\n",
       "      <th>85</th>\n",
       "      <td>254</td>\n",
       "      <td>termurah cuanki lidah khas garut, toping baso ...</td>\n",
       "      <td>Rp20.500</td>\n",
       "      <td>sansay327</td>\n",
       "      <td>Tangerang Selatan</td>\n",
       "      <td>30+ terjual</td>\n",
       "      <td>5.0</td>\n",
       "    </tr>\n",
       "    <tr>\n",
       "      <th>86</th>\n",
       "      <td>285</td>\n",
       "      <td>kerupuk seblak pedas 1 kg / kerupuk seblak</td>\n",
       "      <td>Rp35.625</td>\n",
       "      <td>Adila_Putri_Snack</td>\n",
       "      <td>Kab.Ciamis</td>\n",
       "      <td>100+ terjual</td>\n",
       "      <td>4.8</td>\n",
       "    </tr>\n",
       "    <tr>\n",
       "      <th>87</th>\n",
       "      <td>287</td>\n",
       "      <td>cuanki lidah 50 pcs enak toping seblak baso aci</td>\n",
       "      <td>Rp12.999</td>\n",
       "      <td>CuankiCulametan</td>\n",
       "      <td>Kab. Garut</td>\n",
       "      <td>250+ terjual</td>\n",
       "      <td>4.9</td>\n",
       "    </tr>\n",
       "    <tr>\n",
       "      <th>88</th>\n",
       "      <td>288</td>\n",
       "      <td>PANGSIT SEBLAK BUMBU BASAH</td>\n",
       "      <td>Rp8.500</td>\n",
       "      <td>RIKI STORE 97</td>\n",
       "      <td>Kab. Bogor</td>\n",
       "      <td>9 terjual</td>\n",
       "      <td>5.0</td>\n",
       "    </tr>\n",
       "    <tr>\n",
       "      <th>89</th>\n",
       "      <td>289</td>\n",
       "      <td>kerupuk seblak tatangga viral Rafael pedas dau...</td>\n",
       "      <td>Rp10.000</td>\n",
       "      <td>MRA souvenir Ultah</td>\n",
       "      <td>Jakarta Timur</td>\n",
       "      <td>NaN</td>\n",
       "      <td>NaN</td>\n",
       "    </tr>\n",
       "  </tbody>\n",
       "</table>\n",
       "<p>90 rows × 7 columns</p>\n",
       "</div>"
      ],
      "text/plain": [
       "    Unnamed: 0                                               Name     Price  \\\n",
       "0            0  Gelifood Combo 3pcs Seblak Instan Kerupuk Mawa...  Rp39.000   \n",
       "1            1                                Kylafood Seblak Cup  Rp11.000   \n",
       "2            2  Seblak Instan Ceu Nthien Khas Bandung Rasana N...  Rp15.000   \n",
       "3            3                                SEBLAK INSTAN MOMMY  Rp13.500   \n",
       "4            4  Termurah Kerupuk Mentah-Kerupuk Seblak-Kerupuk...   Rp6.000   \n",
       "..         ...                                                ...       ...   \n",
       "85         254  termurah cuanki lidah khas garut, toping baso ...  Rp20.500   \n",
       "86         285         kerupuk seblak pedas 1 kg / kerupuk seblak  Rp35.625   \n",
       "87         287    cuanki lidah 50 pcs enak toping seblak baso aci  Rp12.999   \n",
       "88         288                         PANGSIT SEBLAK BUMBU BASAH   Rp8.500   \n",
       "89         289  kerupuk seblak tatangga viral Rafael pedas dau...  Rp10.000   \n",
       "\n",
       "                      Seller             Cities  Product sold  Product rating  \n",
       "0                   Lidigeli         Kab. Garut   30+ terjual             4.6  \n",
       "1           Kylafood Jakarta    Jakarta Selatan   60+ terjual             4.9  \n",
       "2   Central Seblak Nusantara  Tangerang Selatan  1rb+ terjual             4.9  \n",
       "3           Rav Jaya Display     Kab. Tangerang  1rb+ terjual             4.8  \n",
       "4           Djuragan Kerupuk           Surabaya   80+ terjual             5.0  \n",
       "..                       ...                ...           ...             ...  \n",
       "85                 sansay327  Tangerang Selatan   30+ terjual             5.0  \n",
       "86         Adila_Putri_Snack         Kab.Ciamis  100+ terjual             4.8  \n",
       "87           CuankiCulametan         Kab. Garut  250+ terjual             4.9  \n",
       "88             RIKI STORE 97         Kab. Bogor     9 terjual             5.0  \n",
       "89        MRA souvenir Ultah      Jakarta Timur           NaN             NaN  \n",
       "\n",
       "[90 rows x 7 columns]"
      ]
     },
     "execution_count": 7,
     "metadata": {},
     "output_type": "execute_result"
    }
   ],
   "source": [
    "df"
   ]
  },
  {
   "cell_type": "code",
   "execution_count": 8,
   "metadata": {},
   "outputs": [],
   "source": [
    "#The formula to remove Rp inside Price column\n",
    "df['Price']= df['Price'].str.replace('Rp', '')\n",
    "#The formula for removing the word Terjual from the Product sold column\n",
    "df['Product sold']= df['Product sold'].str.replace('terjual', '')"
   ]
  },
  {
   "cell_type": "code",
   "execution_count": 9,
   "metadata": {},
   "outputs": [],
   "source": [
    "#Formula to change the word rb to thousand(000) and Formula to remove the + sign in the Product sold column\n",
    "df['Product sold']= df['Product sold'].str.replace('rb', '000')\n",
    "df['Product sold']= df['Product sold'].str.replace('+', '')"
   ]
  },
  {
   "cell_type": "code",
   "execution_count": 10,
   "metadata": {},
   "outputs": [],
   "source": [
    "#The formula to convert None to non values\n",
    "df['Product sold'] = df['Product sold'].replace('None', pd.NA)"
   ]
  },
  {
   "cell_type": "code",
   "execution_count": 11,
   "metadata": {},
   "outputs": [],
   "source": [
    "#The formula for removing spaces in the Product sold column\n",
    "df['Product sold']= df['Product sold'].str.replace(' ', '')"
   ]
  },
  {
   "cell_type": "code",
   "execution_count": 12,
   "metadata": {},
   "outputs": [],
   "source": [
    "#The formula to convert non values to 0 and change the data type from object to integer\n",
    "df['Product sold'] = df['Product sold'].fillna(0).astype(int)"
   ]
  },
  {
   "cell_type": "code",
   "execution_count": 13,
   "metadata": {},
   "outputs": [],
   "source": [
    "#The formula to convert non values to 0 and change the data type from object to float\n",
    "df['Product rating']= df['Product rating'].fillna(0).astype(float)"
   ]
  },
  {
   "cell_type": "code",
   "execution_count": 14,
   "metadata": {},
   "outputs": [
    {
     "data": {
      "text/html": [
       "<div>\n",
       "<style scoped>\n",
       "    .dataframe tbody tr th:only-of-type {\n",
       "        vertical-align: middle;\n",
       "    }\n",
       "\n",
       "    .dataframe tbody tr th {\n",
       "        vertical-align: top;\n",
       "    }\n",
       "\n",
       "    .dataframe thead th {\n",
       "        text-align: right;\n",
       "    }\n",
       "</style>\n",
       "<table border=\"1\" class=\"dataframe\">\n",
       "  <thead>\n",
       "    <tr style=\"text-align: right;\">\n",
       "      <th></th>\n",
       "      <th>Unnamed: 0</th>\n",
       "      <th>Name</th>\n",
       "      <th>Price</th>\n",
       "      <th>Seller</th>\n",
       "      <th>Cities</th>\n",
       "      <th>Product sold</th>\n",
       "      <th>Product rating</th>\n",
       "    </tr>\n",
       "  </thead>\n",
       "  <tbody>\n",
       "    <tr>\n",
       "      <th>0</th>\n",
       "      <td>0</td>\n",
       "      <td>Gelifood Combo 3pcs Seblak Instan Kerupuk Mawa...</td>\n",
       "      <td>39.000</td>\n",
       "      <td>Lidigeli</td>\n",
       "      <td>Kab. Garut</td>\n",
       "      <td>30</td>\n",
       "      <td>4.6</td>\n",
       "    </tr>\n",
       "    <tr>\n",
       "      <th>1</th>\n",
       "      <td>1</td>\n",
       "      <td>Kylafood Seblak Cup</td>\n",
       "      <td>11.000</td>\n",
       "      <td>Kylafood Jakarta</td>\n",
       "      <td>Jakarta Selatan</td>\n",
       "      <td>60</td>\n",
       "      <td>4.9</td>\n",
       "    </tr>\n",
       "    <tr>\n",
       "      <th>2</th>\n",
       "      <td>2</td>\n",
       "      <td>Seblak Instan Ceu Nthien Khas Bandung Rasana N...</td>\n",
       "      <td>15.000</td>\n",
       "      <td>Central Seblak Nusantara</td>\n",
       "      <td>Tangerang Selatan</td>\n",
       "      <td>1000</td>\n",
       "      <td>4.9</td>\n",
       "    </tr>\n",
       "    <tr>\n",
       "      <th>3</th>\n",
       "      <td>3</td>\n",
       "      <td>SEBLAK INSTAN MOMMY</td>\n",
       "      <td>13.500</td>\n",
       "      <td>Rav Jaya Display</td>\n",
       "      <td>Kab. Tangerang</td>\n",
       "      <td>1000</td>\n",
       "      <td>4.8</td>\n",
       "    </tr>\n",
       "    <tr>\n",
       "      <th>4</th>\n",
       "      <td>4</td>\n",
       "      <td>Termurah Kerupuk Mentah-Kerupuk Seblak-Kerupuk...</td>\n",
       "      <td>6.000</td>\n",
       "      <td>Djuragan Kerupuk</td>\n",
       "      <td>Surabaya</td>\n",
       "      <td>80</td>\n",
       "      <td>5.0</td>\n",
       "    </tr>\n",
       "    <tr>\n",
       "      <th>...</th>\n",
       "      <td>...</td>\n",
       "      <td>...</td>\n",
       "      <td>...</td>\n",
       "      <td>...</td>\n",
       "      <td>...</td>\n",
       "      <td>...</td>\n",
       "      <td>...</td>\n",
       "    </tr>\n",
       "    <tr>\n",
       "      <th>85</th>\n",
       "      <td>254</td>\n",
       "      <td>termurah cuanki lidah khas garut, toping baso ...</td>\n",
       "      <td>20.500</td>\n",
       "      <td>sansay327</td>\n",
       "      <td>Tangerang Selatan</td>\n",
       "      <td>30</td>\n",
       "      <td>5.0</td>\n",
       "    </tr>\n",
       "    <tr>\n",
       "      <th>86</th>\n",
       "      <td>285</td>\n",
       "      <td>kerupuk seblak pedas 1 kg / kerupuk seblak</td>\n",
       "      <td>35.625</td>\n",
       "      <td>Adila_Putri_Snack</td>\n",
       "      <td>Kab.Ciamis</td>\n",
       "      <td>100</td>\n",
       "      <td>4.8</td>\n",
       "    </tr>\n",
       "    <tr>\n",
       "      <th>87</th>\n",
       "      <td>287</td>\n",
       "      <td>cuanki lidah 50 pcs enak toping seblak baso aci</td>\n",
       "      <td>12.999</td>\n",
       "      <td>CuankiCulametan</td>\n",
       "      <td>Kab. Garut</td>\n",
       "      <td>250</td>\n",
       "      <td>4.9</td>\n",
       "    </tr>\n",
       "    <tr>\n",
       "      <th>88</th>\n",
       "      <td>288</td>\n",
       "      <td>PANGSIT SEBLAK BUMBU BASAH</td>\n",
       "      <td>8.500</td>\n",
       "      <td>RIKI STORE 97</td>\n",
       "      <td>Kab. Bogor</td>\n",
       "      <td>9</td>\n",
       "      <td>5.0</td>\n",
       "    </tr>\n",
       "    <tr>\n",
       "      <th>89</th>\n",
       "      <td>289</td>\n",
       "      <td>kerupuk seblak tatangga viral Rafael pedas dau...</td>\n",
       "      <td>10.000</td>\n",
       "      <td>MRA souvenir Ultah</td>\n",
       "      <td>Jakarta Timur</td>\n",
       "      <td>0</td>\n",
       "      <td>0.0</td>\n",
       "    </tr>\n",
       "  </tbody>\n",
       "</table>\n",
       "<p>90 rows × 7 columns</p>\n",
       "</div>"
      ],
      "text/plain": [
       "    Unnamed: 0                                               Name   Price  \\\n",
       "0            0  Gelifood Combo 3pcs Seblak Instan Kerupuk Mawa...  39.000   \n",
       "1            1                                Kylafood Seblak Cup  11.000   \n",
       "2            2  Seblak Instan Ceu Nthien Khas Bandung Rasana N...  15.000   \n",
       "3            3                                SEBLAK INSTAN MOMMY  13.500   \n",
       "4            4  Termurah Kerupuk Mentah-Kerupuk Seblak-Kerupuk...   6.000   \n",
       "..         ...                                                ...     ...   \n",
       "85         254  termurah cuanki lidah khas garut, toping baso ...  20.500   \n",
       "86         285         kerupuk seblak pedas 1 kg / kerupuk seblak  35.625   \n",
       "87         287    cuanki lidah 50 pcs enak toping seblak baso aci  12.999   \n",
       "88         288                         PANGSIT SEBLAK BUMBU BASAH   8.500   \n",
       "89         289  kerupuk seblak tatangga viral Rafael pedas dau...  10.000   \n",
       "\n",
       "                      Seller             Cities  Product sold  Product rating  \n",
       "0                   Lidigeli         Kab. Garut            30             4.6  \n",
       "1           Kylafood Jakarta    Jakarta Selatan            60             4.9  \n",
       "2   Central Seblak Nusantara  Tangerang Selatan          1000             4.9  \n",
       "3           Rav Jaya Display     Kab. Tangerang          1000             4.8  \n",
       "4           Djuragan Kerupuk           Surabaya            80             5.0  \n",
       "..                       ...                ...           ...             ...  \n",
       "85                 sansay327  Tangerang Selatan            30             5.0  \n",
       "86         Adila_Putri_Snack         Kab.Ciamis           100             4.8  \n",
       "87           CuankiCulametan         Kab. Garut           250             4.9  \n",
       "88             RIKI STORE 97         Kab. Bogor             9             5.0  \n",
       "89        MRA souvenir Ultah      Jakarta Timur             0             0.0  \n",
       "\n",
       "[90 rows x 7 columns]"
      ]
     },
     "execution_count": 14,
     "metadata": {},
     "output_type": "execute_result"
    }
   ],
   "source": [
    "# Formula to display Dataframe\n",
    "df"
   ]
  },
  {
   "cell_type": "code",
   "execution_count": 15,
   "metadata": {},
   "outputs": [],
   "source": [
    "#The formula to change the data type from object to float\n",
    "df['Price']= df['Price'].astype(float)"
   ]
  },
  {
   "cell_type": "code",
   "execution_count": 16,
   "metadata": {},
   "outputs": [
    {
     "name": "stdout",
     "output_type": "stream",
     "text": [
      "<class 'pandas.core.frame.DataFrame'>\n",
      "RangeIndex: 90 entries, 0 to 89\n",
      "Data columns (total 7 columns):\n",
      " #   Column          Non-Null Count  Dtype  \n",
      "---  ------          --------------  -----  \n",
      " 0   Unnamed: 0      90 non-null     int64  \n",
      " 1   Name            90 non-null     object \n",
      " 2   Price           90 non-null     float64\n",
      " 3   Seller          90 non-null     object \n",
      " 4   Cities          90 non-null     object \n",
      " 5   Product sold    90 non-null     int32  \n",
      " 6   Product rating  90 non-null     float64\n",
      "dtypes: float64(2), int32(1), int64(1), object(3)\n",
      "memory usage: 4.7+ KB\n"
     ]
    }
   ],
   "source": [
    "# Formula to check the information within dataframe\n",
    "df.info()"
   ]
  },
  {
   "cell_type": "code",
   "execution_count": 17,
   "metadata": {},
   "outputs": [],
   "source": [
    "# Formula to drop Unnamed Column\n",
    "df.drop(columns='Unnamed: 0', inplace=True)"
   ]
  },
  {
   "cell_type": "code",
   "execution_count": 18,
   "metadata": {},
   "outputs": [
    {
     "name": "stdout",
     "output_type": "stream",
     "text": [
      "<class 'pandas.core.frame.DataFrame'>\n",
      "RangeIndex: 90 entries, 0 to 89\n",
      "Data columns (total 6 columns):\n",
      " #   Column          Non-Null Count  Dtype  \n",
      "---  ------          --------------  -----  \n",
      " 0   Name            90 non-null     object \n",
      " 1   Price           90 non-null     float64\n",
      " 2   Seller          90 non-null     object \n",
      " 3   Cities          90 non-null     object \n",
      " 4   Product sold    90 non-null     int32  \n",
      " 5   Product rating  90 non-null     float64\n",
      "dtypes: float64(2), int32(1), object(3)\n",
      "memory usage: 4.0+ KB\n"
     ]
    }
   ],
   "source": [
    "# Formula to check the information within dataframe\n",
    "df.info()"
   ]
  },
  {
   "cell_type": "code",
   "execution_count": 19,
   "metadata": {},
   "outputs": [],
   "source": [
    "# Formula to export to csv file\n",
    "df.to_csv('Seblak_tokped_clean.csv')"
   ]
  }
 ],
 "metadata": {
  "kernelspec": {
   "display_name": "base",
   "language": "python",
   "name": "python3"
  },
  "language_info": {
   "codemirror_mode": {
    "name": "ipython",
    "version": 3
   },
   "file_extension": ".py",
   "mimetype": "text/x-python",
   "name": "python",
   "nbconvert_exporter": "python",
   "pygments_lexer": "ipython3",
   "version": "3.9.17"
  }
 },
 "nbformat": 4,
 "nbformat_minor": 2
}
