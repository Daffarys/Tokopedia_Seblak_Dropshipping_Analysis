{
 "cells": [
  {
   "cell_type": "markdown",
   "metadata": {},
   "source": [
    "# Statistical Analysis"
   ]
  },
  {
   "cell_type": "markdown",
   "metadata": {},
   "source": [
    "This section of This section is created to analyze data statistically descriptively and inferentially. In order to determine the feasibility of Seblak Dropshipping Business"
   ]
  },
  {
   "cell_type": "code",
   "execution_count": 1,
   "metadata": {},
   "outputs": [],
   "source": [
    "# Import Libraries \n",
    "import pandas as pd\n",
    "import numpy as np\n",
    "import time\n",
    "from scipy import stats"
   ]
  },
  {
   "cell_type": "code",
   "execution_count": 2,
   "metadata": {},
   "outputs": [],
   "source": [
    "# Import Clean Dataset\n",
    "df = pd.read_csv('Seblak_tokped_clean.csv')"
   ]
  },
  {
   "cell_type": "code",
   "execution_count": 3,
   "metadata": {},
   "outputs": [
    {
     "data": {
      "text/html": [
       "<div>\n",
       "<style scoped>\n",
       "    .dataframe tbody tr th:only-of-type {\n",
       "        vertical-align: middle;\n",
       "    }\n",
       "\n",
       "    .dataframe tbody tr th {\n",
       "        vertical-align: top;\n",
       "    }\n",
       "\n",
       "    .dataframe thead th {\n",
       "        text-align: right;\n",
       "    }\n",
       "</style>\n",
       "<table border=\"1\" class=\"dataframe\">\n",
       "  <thead>\n",
       "    <tr style=\"text-align: right;\">\n",
       "      <th></th>\n",
       "      <th>Unnamed: 0</th>\n",
       "      <th>Name</th>\n",
       "      <th>Price</th>\n",
       "      <th>Seller</th>\n",
       "      <th>Cities</th>\n",
       "      <th>Product sold</th>\n",
       "      <th>Product rating</th>\n",
       "    </tr>\n",
       "  </thead>\n",
       "  <tbody>\n",
       "    <tr>\n",
       "      <th>0</th>\n",
       "      <td>0</td>\n",
       "      <td>Gelifood Combo 3pcs Seblak Instan Kerupuk Mawa...</td>\n",
       "      <td>39.000</td>\n",
       "      <td>Lidigeli</td>\n",
       "      <td>Kab. Garut</td>\n",
       "      <td>30</td>\n",
       "      <td>4.6</td>\n",
       "    </tr>\n",
       "    <tr>\n",
       "      <th>1</th>\n",
       "      <td>1</td>\n",
       "      <td>Kylafood Seblak Cup</td>\n",
       "      <td>11.000</td>\n",
       "      <td>Kylafood Jakarta</td>\n",
       "      <td>Jakarta Selatan</td>\n",
       "      <td>60</td>\n",
       "      <td>4.9</td>\n",
       "    </tr>\n",
       "    <tr>\n",
       "      <th>2</th>\n",
       "      <td>2</td>\n",
       "      <td>Seblak Instan Ceu Nthien Khas Bandung Rasana N...</td>\n",
       "      <td>15.000</td>\n",
       "      <td>Central Seblak Nusantara</td>\n",
       "      <td>Tangerang Selatan</td>\n",
       "      <td>1000</td>\n",
       "      <td>4.9</td>\n",
       "    </tr>\n",
       "    <tr>\n",
       "      <th>3</th>\n",
       "      <td>3</td>\n",
       "      <td>SEBLAK INSTAN MOMMY</td>\n",
       "      <td>13.500</td>\n",
       "      <td>Rav Jaya Display</td>\n",
       "      <td>Kab. Tangerang</td>\n",
       "      <td>1000</td>\n",
       "      <td>4.8</td>\n",
       "    </tr>\n",
       "    <tr>\n",
       "      <th>4</th>\n",
       "      <td>4</td>\n",
       "      <td>Termurah Kerupuk Mentah-Kerupuk Seblak-Kerupuk...</td>\n",
       "      <td>6.000</td>\n",
       "      <td>Djuragan Kerupuk</td>\n",
       "      <td>Surabaya</td>\n",
       "      <td>80</td>\n",
       "      <td>5.0</td>\n",
       "    </tr>\n",
       "    <tr>\n",
       "      <th>...</th>\n",
       "      <td>...</td>\n",
       "      <td>...</td>\n",
       "      <td>...</td>\n",
       "      <td>...</td>\n",
       "      <td>...</td>\n",
       "      <td>...</td>\n",
       "      <td>...</td>\n",
       "    </tr>\n",
       "    <tr>\n",
       "      <th>85</th>\n",
       "      <td>85</td>\n",
       "      <td>termurah cuanki lidah khas garut, toping baso ...</td>\n",
       "      <td>20.500</td>\n",
       "      <td>sansay327</td>\n",
       "      <td>Tangerang Selatan</td>\n",
       "      <td>30</td>\n",
       "      <td>5.0</td>\n",
       "    </tr>\n",
       "    <tr>\n",
       "      <th>86</th>\n",
       "      <td>86</td>\n",
       "      <td>kerupuk seblak pedas 1 kg / kerupuk seblak</td>\n",
       "      <td>35.625</td>\n",
       "      <td>Adila_Putri_Snack</td>\n",
       "      <td>Kab.Ciamis</td>\n",
       "      <td>100</td>\n",
       "      <td>4.8</td>\n",
       "    </tr>\n",
       "    <tr>\n",
       "      <th>87</th>\n",
       "      <td>87</td>\n",
       "      <td>cuanki lidah 50 pcs enak toping seblak baso aci</td>\n",
       "      <td>12.999</td>\n",
       "      <td>CuankiCulametan</td>\n",
       "      <td>Kab. Garut</td>\n",
       "      <td>250</td>\n",
       "      <td>4.9</td>\n",
       "    </tr>\n",
       "    <tr>\n",
       "      <th>88</th>\n",
       "      <td>88</td>\n",
       "      <td>PANGSIT SEBLAK BUMBU BASAH</td>\n",
       "      <td>8.500</td>\n",
       "      <td>RIKI STORE 97</td>\n",
       "      <td>Kab. Bogor</td>\n",
       "      <td>9</td>\n",
       "      <td>5.0</td>\n",
       "    </tr>\n",
       "    <tr>\n",
       "      <th>89</th>\n",
       "      <td>89</td>\n",
       "      <td>kerupuk seblak tatangga viral Rafael pedas dau...</td>\n",
       "      <td>10.000</td>\n",
       "      <td>MRA souvenir Ultah</td>\n",
       "      <td>Jakarta Timur</td>\n",
       "      <td>0</td>\n",
       "      <td>0.0</td>\n",
       "    </tr>\n",
       "  </tbody>\n",
       "</table>\n",
       "<p>90 rows × 7 columns</p>\n",
       "</div>"
      ],
      "text/plain": [
       "    Unnamed: 0                                               Name   Price  \\\n",
       "0            0  Gelifood Combo 3pcs Seblak Instan Kerupuk Mawa...  39.000   \n",
       "1            1                                Kylafood Seblak Cup  11.000   \n",
       "2            2  Seblak Instan Ceu Nthien Khas Bandung Rasana N...  15.000   \n",
       "3            3                                SEBLAK INSTAN MOMMY  13.500   \n",
       "4            4  Termurah Kerupuk Mentah-Kerupuk Seblak-Kerupuk...   6.000   \n",
       "..         ...                                                ...     ...   \n",
       "85          85  termurah cuanki lidah khas garut, toping baso ...  20.500   \n",
       "86          86         kerupuk seblak pedas 1 kg / kerupuk seblak  35.625   \n",
       "87          87    cuanki lidah 50 pcs enak toping seblak baso aci  12.999   \n",
       "88          88                         PANGSIT SEBLAK BUMBU BASAH   8.500   \n",
       "89          89  kerupuk seblak tatangga viral Rafael pedas dau...  10.000   \n",
       "\n",
       "                      Seller             Cities  Product sold  Product rating  \n",
       "0                   Lidigeli         Kab. Garut            30             4.6  \n",
       "1           Kylafood Jakarta    Jakarta Selatan            60             4.9  \n",
       "2   Central Seblak Nusantara  Tangerang Selatan          1000             4.9  \n",
       "3           Rav Jaya Display     Kab. Tangerang          1000             4.8  \n",
       "4           Djuragan Kerupuk           Surabaya            80             5.0  \n",
       "..                       ...                ...           ...             ...  \n",
       "85                 sansay327  Tangerang Selatan            30             5.0  \n",
       "86         Adila_Putri_Snack         Kab.Ciamis           100             4.8  \n",
       "87           CuankiCulametan         Kab. Garut           250             4.9  \n",
       "88             RIKI STORE 97         Kab. Bogor             9             5.0  \n",
       "89        MRA souvenir Ultah      Jakarta Timur             0             0.0  \n",
       "\n",
       "[90 rows x 7 columns]"
      ]
     },
     "execution_count": 3,
     "metadata": {},
     "output_type": "execute_result"
    }
   ],
   "source": [
    "# Display Dataframe\n",
    "df"
   ]
  },
  {
   "cell_type": "code",
   "execution_count": 4,
   "metadata": {},
   "outputs": [],
   "source": [
    "# Remove unnamed column\n",
    "df.drop(columns='Unnamed: 0', inplace=True)"
   ]
  },
  {
   "cell_type": "code",
   "execution_count": 5,
   "metadata": {},
   "outputs": [
    {
     "name": "stdout",
     "output_type": "stream",
     "text": [
      "Average Price: 21.474988888888888\n",
      "Median of Price: 14.0\n",
      "Mode of Price: 9.999\n"
     ]
    }
   ],
   "source": [
    "#The formula for calculating the Average of prices\n",
    "print('Average Price:',df['Price'].mean(),)\n",
    "#The formula for calculating the Median of price\n",
    "print('Median of Price:',df['Price'].median(),)\n",
    "#The formula for calculating the Mode of price\n",
    "print('Mode of Price:',df['Price'].mode().values[0],)"
   ]
  },
  {
   "cell_type": "markdown",
   "metadata": {},
   "source": [
    "\n",
    "The average price of seblak on Tokopedia is Rp 21,474.99. This means that the majority of seblak products on Tokopedia are priced around this range.\n",
    "\n",
    "The median price of seblak on Tokopedia is Rp 14.00. This means that half of the seblak products on Tokopedia are priced above Rp 14.00, and the other half are priced below Rp 14.00.\n",
    "\n",
    "The mode price of seblak on Tokopedia is Rp 9.999. This means that the most common price for seblak on Tokopedia is Rp 9.999."
   ]
  },
  {
   "cell_type": "code",
   "execution_count": 6,
   "metadata": {},
   "outputs": [
    {
     "name": "stdout",
     "output_type": "stream",
     "text": [
      "Skewness: 7.164824101503627\n"
     ]
    }
   ],
   "source": [
    "#The formula to calculate the skewness of a table\n",
    "print(f\"Skewness: {df['Price'].skew()}\")"
   ]
  },
  {
   "cell_type": "code",
   "execution_count": 7,
   "metadata": {},
   "outputs": [
    {
     "name": "stdout",
     "output_type": "stream",
     "text": [
      "Kurtosis: 59.69719180490647\n"
     ]
    }
   ],
   "source": [
    "#The formula for calculating the kurtosis of a table\n",
    "print(f\"Kurtosis: {df['Price'].kurtosis()}\")"
   ]
  },
  {
   "cell_type": "markdown",
   "metadata": {},
   "source": [
    "\n",
    "The skewness of the price column of seblak is 7.164824101503627, which indicates that the distribution of the data is heavily skewed to the right. This means that there are a few very high-priced seblak products, and the majority of seblak products are priced lower.\n",
    "\n",
    "The kurtosis of the price column of seblak is 59.69719180490647, which indicates that the distribution of the data is very peaked. This means that there is a concentration of seblak products priced at the mode price, and the distribution of prices falls off sharply on either side of the mode.\n",
    "\n",
    "Overall, the skewness and kurtosis of the price column of seblak suggest that the distribution of seblak prices is very uneven, with a few very high-priced products and a concentration of products priced at the mode price.\n",
    "\n",
    "Here are some possible interpretations of the results:\n",
    "\n",
    "- Uneven distribution of prices: The skewness and kurtosis of the data suggest that the distribution of seblak prices is very uneven. This means that there is a small number of very high-priced seblak products, and the majority of seblak products are priced lower.\n",
    "- Concentration of products at the mode price: The high kurtosis of the data suggests that there is a concentration of seblak products priced at the mode price. This means that consumers are more likely to find seblak products priced at the mode price than at other prices.\n",
    "- Potential for price discrimination: The uneven distribution of seblak prices suggests that there is potential for price discrimination. Price discrimination is a practice where businesses charge different prices to different consumers for the same product or service. For example, a business might charge different prices to consumers based on their income level, location, or other factors.\n",
    "\n",
    "Overall, the skewness and kurtosis of the price column of seblak suggest that the distribution of seblak prices is very uneven. This could have implications for consumers and businesses alike."
   ]
  },
  {
   "cell_type": "code",
   "execution_count": 8,
   "metadata": {},
   "outputs": [
    {
     "name": "stdout",
     "output_type": "stream",
     "text": [
      "Average Product sold: 483.8333333333333\n",
      "Median of Product sold: 80.0\n",
      "Mode of Product sold: 100\n"
     ]
    }
   ],
   "source": [
    "#The formula to calculate the Average of products sold\n",
    "print('Average Product sold:',df['Product sold'].mean(),)\n",
    "#The formula for calculating the Median of products sold\n",
    "print('Median of Product sold:',df['Product sold'].median(),)\n",
    "#The formula for calculating the Mode of product sold\n",
    "print('Mode of Product sold:',df['Product sold'].mode().values[0],)"
   ]
  },
  {
   "cell_type": "markdown",
   "metadata": {},
   "source": [
    "\n",
    "The average product sold for seblak is 483.8333333333333. This means that the average seller on Tokopedia sells around 484 seblak products per month.\n",
    "\n",
    "The median product sold for seblak is 80.0. This means that half of the sellers on Tokopedia sell more than 80 seblak products per month, and the other half sell fewer than 80 seblak products per month.\n",
    "\n",
    "The mode product sold for seblak is 100. This means that the most common number of seblak products sold per month is 100.\n",
    "\n",
    "These results suggest that there is a wide range of sales performance for seblak sellers on Tokopedia. Some sellers are selling a very large number of seblak products per month, while others are selling a much smaller number of products.\n",
    "\n",
    "Here are some possible interpretations of the results:\n",
    "\n",
    "- Wide range of sales performance: The wide range between the average, median, and mode product sold suggests that there is a wide range of sales performance for seblak sellers on Tokopedia. This is likely due to a number of factors, such as the seller's location, product selection, marketing strategy, and overall business experience.\n",
    "- Potential for growth: The fact that the average product sold is higher than the median and mode product sold suggests that there is potential for growth for seblak sellers on Tokopedia. This is because there are a number of sellers who are not yet selling as many products as the average seller.\n",
    "- Need for differentiation: The fact that the most common number of seblak products sold per month is 100 suggests that there is a need for differentiation among seblak sellers. Sellers who are able to differentiate themselves from the competition by offering unique products, services, or pricing strategies are more likely to be successful.\n",
    "\n",
    "Overall, the results suggest that there is a wide range of sales performance for seblak sellers on Tokopedia. There is potential for growth for seblak sellers, but sellers need to differentiate themselves from the competition in order to be successful."
   ]
  },
  {
   "cell_type": "code",
   "execution_count": 9,
   "metadata": {},
   "outputs": [
    {
     "name": "stdout",
     "output_type": "stream",
     "text": [
      "Average Product rating: 4.45\n",
      "Median of Product rating: 4.9\n",
      "Mode of Product rating: 5.0\n"
     ]
    }
   ],
   "source": [
    "#The formula for calculating the Average of product ratings\n",
    "print('Average Product rating:',df['Product rating'].mean(),)\n",
    "#The formula for calculating the Median of product rating\n",
    "print('Median of Product rating:',df['Product rating'].median(),)\n",
    "#The formula for calculating the Mode of product rating\n",
    "print('Mode of Product rating:',df['Product rating'].mode().values[0],)"
   ]
  },
  {
   "cell_type": "markdown",
   "metadata": {},
   "source": [
    "\n",
    "The average product rating for seblak on Tokopedia is 4.45. This means that the majority of seblak products on Tokopedia have a rating of around 4.5 stars.\n",
    "\n",
    "The median product rating for seblak on Tokopedia is 4.9. This means that half of the seblak products on Tokopedia have a rating of 4.9 stars or higher, and the other half have a rating of 4.9 stars or lower.\n",
    "\n",
    "The mode product rating for seblak on Tokopedia is 5.0. This means that the most common rating for seblak products on Tokopedia is 5 stars.\n",
    "\n",
    "Overall, the data suggests that seblak products on Tokopedia are generally well-rated by consumers. The average, median, and mode product ratings are all relatively high."
   ]
  },
  {
   "cell_type": "code",
   "execution_count": 10,
   "metadata": {},
   "outputs": [
    {
     "name": "stdout",
     "output_type": "stream",
     "text": [
      "Upper Boundary: 37.19\n",
      "Lower Boundary: -6.31\n"
     ]
    }
   ],
   "source": [
    "#The formula to determine the upper boundary and lower boundary for column price\n",
    "q1 = df['Price'].quantile(0.25)\n",
    "q3 = df['Price'].quantile(0.75)\n",
    "iqr = q3-q1\n",
    "\n",
    "up_bound = q3 + 1.5*iqr\n",
    "low_bound = q1 - 1.5*iqr\n",
    "\n",
    "print(f'Upper Boundary: {up_bound:.2f}' )\n",
    "print(f'Lower Boundary: {low_bound:.2f}')"
   ]
  },
  {
   "cell_type": "markdown",
   "metadata": {},
   "source": [
    "This result show that the upper boundary for the price of seblak on Tokopedia is Rp 37.19 and the lower boundary is Rp -6.31. This means that any seblak product priced above Rp 37.19 or below Rp -6.31 would be considered an outlier."
   ]
  },
  {
   "cell_type": "code",
   "execution_count": 11,
   "metadata": {},
   "outputs": [
    {
     "name": "stdout",
     "output_type": "stream",
     "text": [
      "Upper Boundary: 587.12\n",
      "Lower Boundary: -311.88\n"
     ]
    }
   ],
   "source": [
    "#The formula to determine the upper boundary and lower boundary for the sold product column\n",
    "q1 = df['Product sold'].quantile(0.25)\n",
    "q3 = df['Product sold'].quantile(0.75)\n",
    "iqr = q3-q1\n",
    "\n",
    "up_bound = q3 + 1.5*iqr\n",
    "low_bound = q1 - 1.5*iqr\n",
    "\n",
    "print(f'Upper Boundary: {up_bound:.2f}' )\n",
    "print(f'Lower Boundary: {low_bound:.2f}')"
   ]
  },
  {
   "cell_type": "markdown",
   "metadata": {},
   "source": [
    "In the context of product sold, the upper and lower boundaries can be used to identify sellers that are selling an unusually high or low number of products. For example, if the upper boundary is 587.12 and the lower boundary is -311.88, then any seller that sells more than 587.12 products or less than -311.88 products would be considered an outlier."
   ]
  },
  {
   "cell_type": "code",
   "execution_count": 12,
   "metadata": {},
   "outputs": [
    {
     "data": {
      "text/html": [
       "<div>\n",
       "<style scoped>\n",
       "    .dataframe tbody tr th:only-of-type {\n",
       "        vertical-align: middle;\n",
       "    }\n",
       "\n",
       "    .dataframe tbody tr th {\n",
       "        vertical-align: top;\n",
       "    }\n",
       "\n",
       "    .dataframe thead th {\n",
       "        text-align: right;\n",
       "    }\n",
       "</style>\n",
       "<table border=\"1\" class=\"dataframe\">\n",
       "  <thead>\n",
       "    <tr style=\"text-align: right;\">\n",
       "      <th></th>\n",
       "      <th>Price</th>\n",
       "      <th>Product sold</th>\n",
       "      <th>Product rating</th>\n",
       "    </tr>\n",
       "  </thead>\n",
       "  <tbody>\n",
       "    <tr>\n",
       "      <th>count</th>\n",
       "      <td>90.000000</td>\n",
       "      <td>90.000000</td>\n",
       "      <td>90.000000</td>\n",
       "    </tr>\n",
       "    <tr>\n",
       "      <th>mean</th>\n",
       "      <td>21.474989</td>\n",
       "      <td>483.833333</td>\n",
       "      <td>4.450000</td>\n",
       "    </tr>\n",
       "    <tr>\n",
       "      <th>std</th>\n",
       "      <td>34.557981</td>\n",
       "      <td>1551.701764</td>\n",
       "      <td>1.402105</td>\n",
       "    </tr>\n",
       "    <tr>\n",
       "      <th>min</th>\n",
       "      <td>2.881000</td>\n",
       "      <td>0.000000</td>\n",
       "      <td>0.000000</td>\n",
       "    </tr>\n",
       "    <tr>\n",
       "      <th>25%</th>\n",
       "      <td>9.999000</td>\n",
       "      <td>25.250000</td>\n",
       "      <td>4.800000</td>\n",
       "    </tr>\n",
       "    <tr>\n",
       "      <th>50%</th>\n",
       "      <td>14.000000</td>\n",
       "      <td>80.000000</td>\n",
       "      <td>4.900000</td>\n",
       "    </tr>\n",
       "    <tr>\n",
       "      <th>75%</th>\n",
       "      <td>20.875000</td>\n",
       "      <td>250.000000</td>\n",
       "      <td>5.000000</td>\n",
       "    </tr>\n",
       "    <tr>\n",
       "      <th>max</th>\n",
       "      <td>315.000000</td>\n",
       "      <td>10000.000000</td>\n",
       "      <td>5.000000</td>\n",
       "    </tr>\n",
       "  </tbody>\n",
       "</table>\n",
       "</div>"
      ],
      "text/plain": [
       "            Price  Product sold  Product rating\n",
       "count   90.000000     90.000000       90.000000\n",
       "mean    21.474989    483.833333        4.450000\n",
       "std     34.557981   1551.701764        1.402105\n",
       "min      2.881000      0.000000        0.000000\n",
       "25%      9.999000     25.250000        4.800000\n",
       "50%     14.000000     80.000000        4.900000\n",
       "75%     20.875000    250.000000        5.000000\n",
       "max    315.000000  10000.000000        5.000000"
      ]
     },
     "execution_count": 12,
     "metadata": {},
     "output_type": "execute_result"
    }
   ],
   "source": [
    "#The formula for specifying the description of the database\n",
    "df.describe()"
   ]
  },
  {
   "cell_type": "markdown",
   "metadata": {},
   "source": [
    "In this section, we want to determine the minimum and maximum potential of seblak sales revenue per month."
   ]
  },
  {
   "cell_type": "code",
   "execution_count": 14,
   "metadata": {},
   "outputs": [
    {
     "data": {
      "text/html": [
       "<div>\n",
       "<style scoped>\n",
       "    .dataframe tbody tr th:only-of-type {\n",
       "        vertical-align: middle;\n",
       "    }\n",
       "\n",
       "    .dataframe tbody tr th {\n",
       "        vertical-align: top;\n",
       "    }\n",
       "\n",
       "    .dataframe thead th {\n",
       "        text-align: right;\n",
       "    }\n",
       "</style>\n",
       "<table border=\"1\" class=\"dataframe\">\n",
       "  <thead>\n",
       "    <tr style=\"text-align: right;\">\n",
       "      <th></th>\n",
       "      <th>Name</th>\n",
       "      <th>Price</th>\n",
       "      <th>Seller</th>\n",
       "      <th>Cities</th>\n",
       "      <th>Product sold</th>\n",
       "      <th>Product rating</th>\n",
       "      <th>Income</th>\n",
       "    </tr>\n",
       "  </thead>\n",
       "  <tbody>\n",
       "    <tr>\n",
       "      <th>0</th>\n",
       "      <td>Gelifood Combo 3pcs Seblak Instan Kerupuk Mawa...</td>\n",
       "      <td>39.000</td>\n",
       "      <td>Lidigeli</td>\n",
       "      <td>Kab. Garut</td>\n",
       "      <td>30</td>\n",
       "      <td>4.6</td>\n",
       "      <td>1170.00</td>\n",
       "    </tr>\n",
       "    <tr>\n",
       "      <th>1</th>\n",
       "      <td>Kylafood Seblak Cup</td>\n",
       "      <td>11.000</td>\n",
       "      <td>Kylafood Jakarta</td>\n",
       "      <td>Jakarta Selatan</td>\n",
       "      <td>60</td>\n",
       "      <td>4.9</td>\n",
       "      <td>660.00</td>\n",
       "    </tr>\n",
       "    <tr>\n",
       "      <th>2</th>\n",
       "      <td>Seblak Instan Ceu Nthien Khas Bandung Rasana N...</td>\n",
       "      <td>15.000</td>\n",
       "      <td>Central Seblak Nusantara</td>\n",
       "      <td>Tangerang Selatan</td>\n",
       "      <td>1000</td>\n",
       "      <td>4.9</td>\n",
       "      <td>15000.00</td>\n",
       "    </tr>\n",
       "    <tr>\n",
       "      <th>3</th>\n",
       "      <td>SEBLAK INSTAN MOMMY</td>\n",
       "      <td>13.500</td>\n",
       "      <td>Rav Jaya Display</td>\n",
       "      <td>Kab. Tangerang</td>\n",
       "      <td>1000</td>\n",
       "      <td>4.8</td>\n",
       "      <td>13500.00</td>\n",
       "    </tr>\n",
       "    <tr>\n",
       "      <th>4</th>\n",
       "      <td>Termurah Kerupuk Mentah-Kerupuk Seblak-Kerupuk...</td>\n",
       "      <td>6.000</td>\n",
       "      <td>Djuragan Kerupuk</td>\n",
       "      <td>Surabaya</td>\n",
       "      <td>80</td>\n",
       "      <td>5.0</td>\n",
       "      <td>480.00</td>\n",
       "    </tr>\n",
       "    <tr>\n",
       "      <th>...</th>\n",
       "      <td>...</td>\n",
       "      <td>...</td>\n",
       "      <td>...</td>\n",
       "      <td>...</td>\n",
       "      <td>...</td>\n",
       "      <td>...</td>\n",
       "      <td>...</td>\n",
       "    </tr>\n",
       "    <tr>\n",
       "      <th>85</th>\n",
       "      <td>termurah cuanki lidah khas garut, toping baso ...</td>\n",
       "      <td>20.500</td>\n",
       "      <td>sansay327</td>\n",
       "      <td>Tangerang Selatan</td>\n",
       "      <td>30</td>\n",
       "      <td>5.0</td>\n",
       "      <td>615.00</td>\n",
       "    </tr>\n",
       "    <tr>\n",
       "      <th>86</th>\n",
       "      <td>kerupuk seblak pedas 1 kg / kerupuk seblak</td>\n",
       "      <td>35.625</td>\n",
       "      <td>Adila_Putri_Snack</td>\n",
       "      <td>Kab.Ciamis</td>\n",
       "      <td>100</td>\n",
       "      <td>4.8</td>\n",
       "      <td>3562.50</td>\n",
       "    </tr>\n",
       "    <tr>\n",
       "      <th>87</th>\n",
       "      <td>cuanki lidah 50 pcs enak toping seblak baso aci</td>\n",
       "      <td>12.999</td>\n",
       "      <td>CuankiCulametan</td>\n",
       "      <td>Kab. Garut</td>\n",
       "      <td>250</td>\n",
       "      <td>4.9</td>\n",
       "      <td>3249.75</td>\n",
       "    </tr>\n",
       "    <tr>\n",
       "      <th>88</th>\n",
       "      <td>PANGSIT SEBLAK BUMBU BASAH</td>\n",
       "      <td>8.500</td>\n",
       "      <td>RIKI STORE 97</td>\n",
       "      <td>Kab. Bogor</td>\n",
       "      <td>9</td>\n",
       "      <td>5.0</td>\n",
       "      <td>76.50</td>\n",
       "    </tr>\n",
       "    <tr>\n",
       "      <th>89</th>\n",
       "      <td>kerupuk seblak tatangga viral Rafael pedas dau...</td>\n",
       "      <td>10.000</td>\n",
       "      <td>MRA souvenir Ultah</td>\n",
       "      <td>Jakarta Timur</td>\n",
       "      <td>0</td>\n",
       "      <td>0.0</td>\n",
       "      <td>0.00</td>\n",
       "    </tr>\n",
       "  </tbody>\n",
       "</table>\n",
       "<p>90 rows × 7 columns</p>\n",
       "</div>"
      ],
      "text/plain": [
       "                                                 Name   Price  \\\n",
       "0   Gelifood Combo 3pcs Seblak Instan Kerupuk Mawa...  39.000   \n",
       "1                                 Kylafood Seblak Cup  11.000   \n",
       "2   Seblak Instan Ceu Nthien Khas Bandung Rasana N...  15.000   \n",
       "3                                 SEBLAK INSTAN MOMMY  13.500   \n",
       "4   Termurah Kerupuk Mentah-Kerupuk Seblak-Kerupuk...   6.000   \n",
       "..                                                ...     ...   \n",
       "85  termurah cuanki lidah khas garut, toping baso ...  20.500   \n",
       "86         kerupuk seblak pedas 1 kg / kerupuk seblak  35.625   \n",
       "87    cuanki lidah 50 pcs enak toping seblak baso aci  12.999   \n",
       "88                         PANGSIT SEBLAK BUMBU BASAH   8.500   \n",
       "89  kerupuk seblak tatangga viral Rafael pedas dau...  10.000   \n",
       "\n",
       "                      Seller             Cities  Product sold  Product rating  \\\n",
       "0                   Lidigeli         Kab. Garut            30             4.6   \n",
       "1           Kylafood Jakarta    Jakarta Selatan            60             4.9   \n",
       "2   Central Seblak Nusantara  Tangerang Selatan          1000             4.9   \n",
       "3           Rav Jaya Display     Kab. Tangerang          1000             4.8   \n",
       "4           Djuragan Kerupuk           Surabaya            80             5.0   \n",
       "..                       ...                ...           ...             ...   \n",
       "85                 sansay327  Tangerang Selatan            30             5.0   \n",
       "86         Adila_Putri_Snack         Kab.Ciamis           100             4.8   \n",
       "87           CuankiCulametan         Kab. Garut           250             4.9   \n",
       "88             RIKI STORE 97         Kab. Bogor             9             5.0   \n",
       "89        MRA souvenir Ultah      Jakarta Timur             0             0.0   \n",
       "\n",
       "      Income  \n",
       "0    1170.00  \n",
       "1     660.00  \n",
       "2   15000.00  \n",
       "3   13500.00  \n",
       "4     480.00  \n",
       "..       ...  \n",
       "85    615.00  \n",
       "86   3562.50  \n",
       "87   3249.75  \n",
       "88     76.50  \n",
       "89      0.00  \n",
       "\n",
       "[90 rows x 7 columns]"
      ]
     },
     "execution_count": 14,
     "metadata": {},
     "output_type": "execute_result"
    }
   ],
   "source": [
    "#The formula for creating a new column, the income column\n",
    "df['Income']= df['Price'] * df['Product sold']\n",
    "df"
   ]
  },
  {
   "cell_type": "code",
   "execution_count": 15,
   "metadata": {},
   "outputs": [
    {
     "name": "stdout",
     "output_type": "stream",
     "text": [
      "Lower Limit: 2099.0124726321915\n",
      "Upper Limit: 7681.921816256696\n"
     ]
    }
   ],
   "source": [
    "#Confidence interval formula to determine the minimum and maximum potential sales in column Income\n",
    "std = df['Income'].std()\n",
    "N = len(df)\n",
    "low, up = stats.norm.interval(0.95,loc=df['Income'].mean(),scale=std/np.sqrt(N))\n",
    "print('Lower Limit:',low)\n",
    "print('Upper Limit:',up)"
   ]
  },
  {
   "cell_type": "markdown",
   "metadata": {},
   "source": [
    "From these results, it can be seen based on data calculations that the minimum potential income is around 2 million rupiah while the maximum income is around 7.6 million rupiah."
   ]
  },
  {
   "cell_type": "markdown",
   "metadata": {},
   "source": [
    "In this section, the program is made to determine whether the price of seblak in Jabodetabek is the same as the price of seblak outside Jabodetabek or more expensive since supplies outside the Jabodetabek area are usually cheaper.\n",
    "\n",
    "\n",
    "So 2 hypotheses were made to find the answer to the question above\n",
    "\n",
    "H0: The price of goods in Jabodetabek with prices outside Jabodetabek has no difference\n",
    "\n",
    "H1: The price of goods in Jabodetabek with prices outside Jabodetabek has a big difference"
   ]
  },
  {
   "cell_type": "code",
   "execution_count": 16,
   "metadata": {},
   "outputs": [
    {
     "data": {
      "text/plain": [
       "array(['Kab. Garut', 'Jakarta Selatan', 'Tangerang Selatan',\n",
       "       'Kab. Tangerang', 'Surabaya', 'Jakarta Timur', 'Jakarta Barat',\n",
       "       'Bandung', 'Kab. Bekasi', 'Tangerang', 'Kab. Subang',\n",
       "       'Jakarta Pusat', 'Medan', 'Depok', 'Malang', 'Kab. Tasikmalaya',\n",
       "       'Cimahi', 'Bekasi', 'Kab. Bogor', 'Semarang', 'Tasikmalaya',\n",
       "       'Kab.Ciamis'], dtype=object)"
      ]
     },
     "execution_count": 16,
     "metadata": {},
     "output_type": "execute_result"
    }
   ],
   "source": [
    "# Formula to find the unique values of cities column\n",
    "df['Cities'].unique()"
   ]
  },
  {
   "cell_type": "code",
   "execution_count": 17,
   "metadata": {},
   "outputs": [],
   "source": [
    "#The formula to determine the cities included in the Jabodetabek region\n",
    "Kota = ['Tangerang Selatan', 'Jakarta Selatan', 'Kab. Bogor', 'Jakarta Timur', 'Jakarta Barat', 'Bekasi','Kab. Bekasi', 'Tangerang', 'Kab. Tangerang', 'Jakarta Pusat', 'Depok']\n",
    "#The formula for creating a database that only contains cities in Jabodetabek\n",
    "Jabodetabek = df[df['Cities'].isin(Kota)]"
   ]
  },
  {
   "cell_type": "code",
   "execution_count": 18,
   "metadata": {},
   "outputs": [
    {
     "data": {
      "text/html": [
       "<div>\n",
       "<style scoped>\n",
       "    .dataframe tbody tr th:only-of-type {\n",
       "        vertical-align: middle;\n",
       "    }\n",
       "\n",
       "    .dataframe tbody tr th {\n",
       "        vertical-align: top;\n",
       "    }\n",
       "\n",
       "    .dataframe thead th {\n",
       "        text-align: right;\n",
       "    }\n",
       "</style>\n",
       "<table border=\"1\" class=\"dataframe\">\n",
       "  <thead>\n",
       "    <tr style=\"text-align: right;\">\n",
       "      <th></th>\n",
       "      <th>Name</th>\n",
       "      <th>Price</th>\n",
       "      <th>Seller</th>\n",
       "      <th>Cities</th>\n",
       "      <th>Product sold</th>\n",
       "      <th>Product rating</th>\n",
       "      <th>Income</th>\n",
       "    </tr>\n",
       "  </thead>\n",
       "  <tbody>\n",
       "    <tr>\n",
       "      <th>1</th>\n",
       "      <td>Kylafood Seblak Cup</td>\n",
       "      <td>11.0</td>\n",
       "      <td>Kylafood Jakarta</td>\n",
       "      <td>Jakarta Selatan</td>\n",
       "      <td>60</td>\n",
       "      <td>4.9</td>\n",
       "      <td>660.0</td>\n",
       "    </tr>\n",
       "    <tr>\n",
       "      <th>2</th>\n",
       "      <td>Seblak Instan Ceu Nthien Khas Bandung Rasana N...</td>\n",
       "      <td>15.0</td>\n",
       "      <td>Central Seblak Nusantara</td>\n",
       "      <td>Tangerang Selatan</td>\n",
       "      <td>1000</td>\n",
       "      <td>4.9</td>\n",
       "      <td>15000.0</td>\n",
       "    </tr>\n",
       "    <tr>\n",
       "      <th>3</th>\n",
       "      <td>SEBLAK INSTAN MOMMY</td>\n",
       "      <td>13.5</td>\n",
       "      <td>Rav Jaya Display</td>\n",
       "      <td>Kab. Tangerang</td>\n",
       "      <td>1000</td>\n",
       "      <td>4.8</td>\n",
       "      <td>13500.0</td>\n",
       "    </tr>\n",
       "    <tr>\n",
       "      <th>5</th>\n",
       "      <td>Seblak RAFAEL | Seblak MAMANG RAFAEL | Seblak ...</td>\n",
       "      <td>40.0</td>\n",
       "      <td>Naturally Plus Jakarta</td>\n",
       "      <td>Kab. Tangerang</td>\n",
       "      <td>100</td>\n",
       "      <td>5.0</td>\n",
       "      <td>4000.0</td>\n",
       "    </tr>\n",
       "    <tr>\n",
       "      <th>6</th>\n",
       "      <td>seblak frozen</td>\n",
       "      <td>10.4</td>\n",
       "      <td>pelangi girls naget</td>\n",
       "      <td>Jakarta Timur</td>\n",
       "      <td>2000</td>\n",
       "      <td>4.9</td>\n",
       "      <td>20800.0</td>\n",
       "    </tr>\n",
       "  </tbody>\n",
       "</table>\n",
       "</div>"
      ],
      "text/plain": [
       "                                                Name  Price  \\\n",
       "1                                Kylafood Seblak Cup   11.0   \n",
       "2  Seblak Instan Ceu Nthien Khas Bandung Rasana N...   15.0   \n",
       "3                                SEBLAK INSTAN MOMMY   13.5   \n",
       "5  Seblak RAFAEL | Seblak MAMANG RAFAEL | Seblak ...   40.0   \n",
       "6                                      seblak frozen   10.4   \n",
       "\n",
       "                     Seller             Cities  Product sold  Product rating  \\\n",
       "1          Kylafood Jakarta    Jakarta Selatan            60             4.9   \n",
       "2  Central Seblak Nusantara  Tangerang Selatan          1000             4.9   \n",
       "3          Rav Jaya Display     Kab. Tangerang          1000             4.8   \n",
       "5    Naturally Plus Jakarta     Kab. Tangerang           100             5.0   \n",
       "6       pelangi girls naget      Jakarta Timur          2000             4.9   \n",
       "\n",
       "    Income  \n",
       "1    660.0  \n",
       "2  15000.0  \n",
       "3  13500.0  \n",
       "5   4000.0  \n",
       "6  20800.0  "
      ]
     },
     "execution_count": 18,
     "metadata": {},
     "output_type": "execute_result"
    }
   ],
   "source": [
    "# formula to display Jabodetabek Dataframe\n",
    "Jabodetabek.head()"
   ]
  },
  {
   "cell_type": "code",
   "execution_count": 19,
   "metadata": {},
   "outputs": [],
   "source": [
    "#The formula to create a database that only contains cities outside Jabodetabek\n",
    "Luar_Jabodetabek = df[~df['Cities'].isin(Kota)]"
   ]
  },
  {
   "cell_type": "code",
   "execution_count": 20,
   "metadata": {},
   "outputs": [
    {
     "data": {
      "text/html": [
       "<div>\n",
       "<style scoped>\n",
       "    .dataframe tbody tr th:only-of-type {\n",
       "        vertical-align: middle;\n",
       "    }\n",
       "\n",
       "    .dataframe tbody tr th {\n",
       "        vertical-align: top;\n",
       "    }\n",
       "\n",
       "    .dataframe thead th {\n",
       "        text-align: right;\n",
       "    }\n",
       "</style>\n",
       "<table border=\"1\" class=\"dataframe\">\n",
       "  <thead>\n",
       "    <tr style=\"text-align: right;\">\n",
       "      <th></th>\n",
       "      <th>Name</th>\n",
       "      <th>Price</th>\n",
       "      <th>Seller</th>\n",
       "      <th>Cities</th>\n",
       "      <th>Product sold</th>\n",
       "      <th>Product rating</th>\n",
       "      <th>Income</th>\n",
       "    </tr>\n",
       "  </thead>\n",
       "  <tbody>\n",
       "    <tr>\n",
       "      <th>0</th>\n",
       "      <td>Gelifood Combo 3pcs Seblak Instan Kerupuk Mawa...</td>\n",
       "      <td>39.000</td>\n",
       "      <td>Lidigeli</td>\n",
       "      <td>Kab. Garut</td>\n",
       "      <td>30</td>\n",
       "      <td>4.6</td>\n",
       "      <td>1170.0</td>\n",
       "    </tr>\n",
       "    <tr>\n",
       "      <th>4</th>\n",
       "      <td>Termurah Kerupuk Mentah-Kerupuk Seblak-Kerupuk...</td>\n",
       "      <td>6.000</td>\n",
       "      <td>Djuragan Kerupuk</td>\n",
       "      <td>Surabaya</td>\n",
       "      <td>80</td>\n",
       "      <td>5.0</td>\n",
       "      <td>480.0</td>\n",
       "    </tr>\n",
       "    <tr>\n",
       "      <th>14</th>\n",
       "      <td>KERUPUK SEBLAK RAFAEL KERING BANTAT PEDES DAUN...</td>\n",
       "      <td>16.000</td>\n",
       "      <td>AyundaSnack</td>\n",
       "      <td>Bandung</td>\n",
       "      <td>30</td>\n",
       "      <td>4.9</td>\n",
       "      <td>480.0</td>\n",
       "    </tr>\n",
       "    <tr>\n",
       "      <th>20</th>\n",
       "      <td>Seblak Instan Komplit Pedas Gurih Nikmat</td>\n",
       "      <td>5.999</td>\n",
       "      <td>Baso Aci Ayang</td>\n",
       "      <td>Kab. Garut</td>\n",
       "      <td>2000</td>\n",
       "      <td>4.9</td>\n",
       "      <td>11998.0</td>\n",
       "    </tr>\n",
       "    <tr>\n",
       "      <th>23</th>\n",
       "      <td>Kerupuk seblak pedas mawar daun jeruk (kerupuk...</td>\n",
       "      <td>17.000</td>\n",
       "      <td>snackmartbdg</td>\n",
       "      <td>Kab. Subang</td>\n",
       "      <td>0</td>\n",
       "      <td>0.0</td>\n",
       "      <td>0.0</td>\n",
       "    </tr>\n",
       "  </tbody>\n",
       "</table>\n",
       "</div>"
      ],
      "text/plain": [
       "                                                 Name   Price  \\\n",
       "0   Gelifood Combo 3pcs Seblak Instan Kerupuk Mawa...  39.000   \n",
       "4   Termurah Kerupuk Mentah-Kerupuk Seblak-Kerupuk...   6.000   \n",
       "14  KERUPUK SEBLAK RAFAEL KERING BANTAT PEDES DAUN...  16.000   \n",
       "20           Seblak Instan Komplit Pedas Gurih Nikmat   5.999   \n",
       "23  Kerupuk seblak pedas mawar daun jeruk (kerupuk...  17.000   \n",
       "\n",
       "              Seller       Cities  Product sold  Product rating   Income  \n",
       "0           Lidigeli   Kab. Garut            30             4.6   1170.0  \n",
       "4   Djuragan Kerupuk     Surabaya            80             5.0    480.0  \n",
       "14       AyundaSnack      Bandung            30             4.9    480.0  \n",
       "20    Baso Aci Ayang   Kab. Garut          2000             4.9  11998.0  \n",
       "23      snackmartbdg  Kab. Subang             0             0.0      0.0  "
      ]
     },
     "execution_count": 20,
     "metadata": {},
     "output_type": "execute_result"
    }
   ],
   "source": [
    "# formula to display outside of Jabodetabek area Dataframe\n",
    "Luar_Jabodetabek.head()"
   ]
  },
  {
   "cell_type": "code",
   "execution_count": 21,
   "metadata": {},
   "outputs": [
    {
     "name": "stdout",
     "output_type": "stream",
     "text": [
      "T-Statistics: 0.24244710841522868\n",
      "P Value: 0.8089978968987732\n"
     ]
    }
   ],
   "source": [
    "#The formula for calculating the P value and T statistic between the price of goods in Jabodetabek and outside Jabodetabek\n",
    "t_stat, p_val =stats.ttest_ind(Jabodetabek['Price'], Luar_Jabodetabek['Price'])\n",
    "\n",
    "print('T-Statistics:', t_stat)\n",
    "print('P Value:', p_val)"
   ]
  },
  {
   "cell_type": "markdown",
   "metadata": {},
   "source": [
    "From the results of this data, it can be concluded that the price of goods in Jabodetabek and outside Jabodetabek does not have a significant difference because of the results of the P value which is above 0.05, therefore H0 is accepted."
   ]
  },
  {
   "cell_type": "markdown",
   "metadata": {},
   "source": [
    "In this section, we want to find whether customers tend to prefer products with low prices or not?\n",
    "\n",
    "To find out the answer to this question we determine the hypothesis, namely:\n",
    "\n",
    "H0: Lower prices have no effect on total goods sold.\n",
    "\n",
    "H1: Lower price has an effect on total goods sold."
   ]
  },
  {
   "cell_type": "code",
   "execution_count": 22,
   "metadata": {},
   "outputs": [
    {
     "name": "stdout",
     "output_type": "stream",
     "text": [
      "r-correlation: -0.10, p-value: 0.33064721935846364\n"
     ]
    }
   ],
   "source": [
    "#The formula for calculating the correlation between price and goods sold\n",
    "corr_r, pval_p = stats.pearsonr(df['Price'], df['Product sold'])\n",
    "print(f\"r-correlation: {corr_r:.2f}, p-value: {pval_p}\")"
   ]
  },
  {
   "cell_type": "markdown",
   "metadata": {},
   "source": [
    "Based on these results, it can be found that Price does not have a significant correlation with total goods sold because the P-Value result is above 0.05, therefore H0 is accepted."
   ]
  },
  {
   "cell_type": "markdown",
   "metadata": {},
   "source": [
    "# Conclusion"
   ]
  },
  {
   "cell_type": "markdown",
   "metadata": {},
   "source": [
    "Based on the results of the data analysis, and the target of the SMART Framework. To achieve a sales result of 50 seblak per month, it is very possible for the median product sold to be at a value of 80 sold products and the mode to be at a value of 100. The target can be achieved or even exceeded as long as the promotional operations are also running well.\n",
    "\n",
    "After that, in the context of finding suppliers, location does not have a major impact because the price of goods is not different between the Jabodetabek area and outside Jabodetabek, so it is still possible to find Jabodetabek suppliers at a reasonable price and also beneficial because it reduces shipping costs from a closer location.\n",
    "\n",
    "In determining the price, it was also found based on the analysis that a cheap price does not guarantee more product sales. Therefore, we can determine the product price around the average price or even higher. Based on data calculations, it was also found that the minimum income potential is around Rp 3 million. Therefore, with a medium or high price in the future.\n",
    "\n",
    "It can be concluded that the seblak business is a business that has great potential due to the cheap price of goods, making it possible for dropshipping businesses for additional income. With the goals set through SMART and the data available, the goals are very possible to be achieved within 3 months and the seblak sales operations can run smoothly and profitably.\n",
    "\n",
    "### Additional explanation:\n",
    "\n",
    "- SMART Framework: A goal-setting framework that stands for Specific, Measurable, Achievable, Relevant, and Time-bound.\n",
    "- Jabodetabek: The Greater Jakarta metropolitan area, which includes Jakarta, Bogor, Depok, Tangerang, and Bekasi.\n",
    "- Ongkir: Indonesian for \"shipping costs\".\n",
    "\n",
    "### Closing Statement:\n",
    "\n",
    "The author of the text concludes that the seblak dropshipping business is a viable business opportunity. The author's analysis shows that there is a high demand for seblak products, and that it is possible to achieve a gross sales of Rp 2 million per month with a medium or high price."
   ]
  }
 ],
 "metadata": {
  "kernelspec": {
   "display_name": "base",
   "language": "python",
   "name": "python3"
  },
  "language_info": {
   "codemirror_mode": {
    "name": "ipython",
    "version": 3
   },
   "file_extension": ".py",
   "mimetype": "text/x-python",
   "name": "python",
   "nbconvert_exporter": "python",
   "pygments_lexer": "ipython3",
   "version": "3.9.17"
  }
 },
 "nbformat": 4,
 "nbformat_minor": 2
}
