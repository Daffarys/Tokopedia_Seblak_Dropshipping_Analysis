{
 "cells": [
  {
   "cell_type": "markdown",
   "metadata": {},
   "source": [
    "# SMART Framework"
   ]
  },
  {
   "cell_type": "markdown",
   "metadata": {},
   "source": [
    "Based on the previous data and the goal of generating additional income, the following goals are made:"
   ]
  },
  {
   "cell_type": "markdown",
   "metadata": {},
   "source": [
    "Specific: Start seblak sales operations through dropshipping and start promotions to help increase sales \n",
    "\n",
    "Measurable: Can sell as many as 50 products per month and can get visits to the store page as many as 500 per month \n",
    "\n",
    "Achievable: Finding suppliers with low prices and using tools that can help promotions such as social media, as well as chat features and promoted pages on tokopedia can get 50 product sales per month and get 500 leads or prospective customers.\n",
    "\n",
    "Relevant: By finding suppliers who have low prices, we can increase sales margins so that we can get costs to be allocated for promotion and marketing activities so that we can increase brand exposure so that the products of our brand are more widely known to the market which makes it possible to increase income.\n",
    "\n",
    "Time Bound: This target is expected to be achieved within 3 months."
   ]
  },
  {
   "cell_type": "markdown",
   "metadata": {},
   "source": [
    "The smart target to be achieved is to be able to start seblak sales operations after 3 months with a target of 50 products per month by finding suppliers with low prices in order to get high price margins and also start promotional operations with a target of 500 visits to the page per month with promotional efforts through social media, and chat features and promoted pages on tokopedia to increase brand awareness which can increase the number of leads and the potential to increase revenue."
   ]
  }
 ],
 "metadata": {
  "kernelspec": {
   "display_name": "base",
   "language": "python",
   "name": "python3"
  },
  "language_info": {
   "name": "python",
   "version": "3.9.17"
  }
 },
 "nbformat": 4,
 "nbformat_minor": 2
}
